{
 "cells": [
  {
   "cell_type": "markdown",
   "metadata": {},
   "source": [
    "# Funzioni"
   ]
  },
  {
   "cell_type": "code",
   "execution_count": 8,
   "metadata": {},
   "outputs": [
    {
     "name": "stdout",
     "output_type": "stream",
     "text": [
      "res 8\n",
      "somma > 8\n",
      "res 12\n",
      "somma > 12\n"
     ]
    }
   ],
   "source": [
    "def nome_funzione(param1, param2, param3):\n",
    "    res = param1 + param2 + param3\n",
    "    print('res', res)\n",
    "    return res\n",
    "\n",
    "somma = nome_funzione(1, 2, 5)\n",
    "print('somma >', somma)\n",
    "\n",
    "somma = nome_funzione(5, 2, 5)\n",
    "print('somma >', somma)\n",
    "\n",
    "# errore\n",
    "#somma = nome_funzione(5, 2, \"5\")\n",
    "\n"
   ]
  },
  {
   "cell_type": "code",
   "execution_count": 11,
   "metadata": {},
   "outputs": [
    {
     "name": "stdout",
     "output_type": "stream",
     "text": [
      "v:  42\n",
      "v:  14\n"
     ]
    }
   ],
   "source": [
    "# funzione legge variabili \"esterne\"\n",
    "\n",
    "moltiplicatore = 6\n",
    "\n",
    "def moltiplica(val):\n",
    "    return val * moltiplicatore\n",
    "\n",
    "v = moltiplica(7)\n",
    "print('v: ', v)\n",
    "\n",
    "moltiplicatore = 2\n",
    "\n",
    "v = moltiplica(7)\n",
    "print('v: ', v)\n"
   ]
  },
  {
   "cell_type": "code",
   "execution_count": 12,
   "metadata": {},
   "outputs": [
    {
     "name": "stdout",
     "output_type": "stream",
     "text": [
      "v:  42\n",
      "v:  14\n"
     ]
    }
   ],
   "source": [
    "# dove possibile (meglio il più spesso) passare tutto come parametri\n",
    "\n",
    "def moltiplica(val, moltiplicatore):\n",
    "    return val * moltiplicatore\n",
    "\n",
    "v = moltiplica(7, 6)\n",
    "print('v: ', v)\n",
    "\n",
    "v = moltiplica(7, 2)\n",
    "print('v: ', v)"
   ]
  },
  {
   "cell_type": "code",
   "execution_count": 22,
   "metadata": {},
   "outputs": [
    {
     "name": "stdout",
     "output_type": "stream",
     "text": [
      "s:  salve marco\n",
      "prefisso_saluto: salve \n",
      "s:  salve pino\n"
     ]
    }
   ],
   "source": [
    "# attenzione a modificare variabili \"esterne dentro la funzione\"\n",
    "\n",
    "prefisso_saluto = \"ciao \"\n",
    "\n",
    "def saluta(nome):\n",
    "    # se non metto global python crea una nuova variabile\n",
    "    # prefisso_saluto che esisite solo dentro la funzione\n",
    "    global prefisso_saluto\n",
    "    \n",
    "    if nome == 'marco':\n",
    "        prefisso_saluto = 'salve '\n",
    "    \n",
    "    res = prefisso_saluto + nome\n",
    "    return res\n",
    "\n",
    "\n",
    "s = saluta('marco')\n",
    "print('s: ', s)\n",
    "\n",
    "print('prefisso_saluto:', prefisso_saluto)\n",
    "\n",
    "s = saluta('pino')\n",
    "print('s: ', s)\n",
    "\n",
    "\n",
    "\n"
   ]
  },
  {
   "cell_type": "code",
   "execution_count": 31,
   "metadata": {},
   "outputs": [
    {
     "name": "stdout",
     "output_type": "stream",
     "text": [
      "38.0\n",
      "20.0\n",
      "8.333333333333334\n"
     ]
    }
   ],
   "source": [
    "# parametri opzionali\n",
    "\n",
    "def calcola_rata(importo, durata = 24, tasso = 0):\n",
    "    rata = importo * (1 + tasso) / durata\n",
    "    return rata\n",
    "\n",
    "r = calcola_rata(200,10, 0.9)\n",
    "print(r)\n",
    "\n",
    "r = calcola_rata(200,10)\n",
    "print(r)\n",
    "\n",
    "r = calcola_rata(200)\n",
    "print(r)\n"
   ]
  },
  {
   "cell_type": "code",
   "execution_count": 32,
   "metadata": {},
   "outputs": [
    {
     "name": "stdout",
     "output_type": "stream",
     "text": [
      "38.0\n",
      "48.0\n",
      "20.0\n"
     ]
    }
   ],
   "source": [
    "# parametri opzionali da altre variabili\n",
    "\n",
    "tasso_interesse = 1.4\n",
    "\n",
    "def calcola_rata_default(importo, durata = 24, tasso = tasso_interesse):\n",
    "    rata = importo * (1 + tasso) / durata\n",
    "    return rata\n",
    "\n",
    "r = calcola_rata_default(200,10, 0.9)\n",
    "print(r)\n",
    "\n",
    "r = calcola_rata_default(200,10)\n",
    "print(r)\n",
    "\n",
    "r = calcola_rata_default(200)\n",
    "print(r)\n"
   ]
  },
  {
   "cell_type": "code",
   "execution_count": null,
   "metadata": {},
   "outputs": [],
   "source": []
  }
 ],
 "metadata": {
  "kernelspec": {
   "display_name": "Python 3",
   "language": "python",
   "name": "python3"
  },
  "language_info": {
   "codemirror_mode": {
    "name": "ipython",
    "version": 3
   },
   "file_extension": ".py",
   "mimetype": "text/x-python",
   "name": "python",
   "nbconvert_exporter": "python",
   "pygments_lexer": "ipython3",
   "version": "3.7.4"
  }
 },
 "nbformat": 4,
 "nbformat_minor": 4
}
