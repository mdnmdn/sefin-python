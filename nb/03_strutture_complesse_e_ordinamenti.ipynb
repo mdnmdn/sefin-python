{
 "cells": [
  {
   "cell_type": "code",
   "execution_count": 1,
   "metadata": {},
   "outputs": [
    {
     "name": "stdout",
     "output_type": "stream",
     "text": [
      "[{'nome': 'pino', 'cognome': 'sdfasd', 'telefono': '322423423'}, {'nome': 'pluto', 'cognome': 'fasdfads', 'telefono': '32423'}]\n",
      "pluto\n",
      "pino\n"
     ]
    }
   ],
   "source": [
    "# list di dictionary\n",
    "\n",
    "contatti = [\n",
    "    {\n",
    "        'nome': 'pino',\n",
    "        'cognome': 'sdfasd',\n",
    "        'telefono': '322423423',\n",
    "    },\n",
    "    {\n",
    "        'nome': 'pluto',\n",
    "        'cognome': 'fasdfads',        \n",
    "        'telefono': '32423',\n",
    "    },\n",
    "    \n",
    "]\n",
    "\n",
    "print(contatti)\n",
    "print(contatti[1]['nome'])\n",
    "print(contatti[0]['nome'])"
   ]
  },
  {
   "cell_type": "code",
   "execution_count": 2,
   "metadata": {},
   "outputs": [
    {
     "name": "stdout",
     "output_type": "stream",
     "text": [
      "[{'nome': 'pino', 'telefono': '322423423', 'recapiti': [{'tipo': 'casa', 'indirizzo': 'via dal mastro 22'}, {'tipo': 'lavoro', 'indirizzo': 'piazza mittica'}]}, {'nome': 'pluto', 'telefono': '32423'}]\n",
      "pluto\n",
      "{'tipo': 'casa', 'indirizzo': 'via dal mastro 22'}\n"
     ]
    }
   ],
   "source": [
    "# list di dictionary con list all'interno\n",
    "\n",
    "indirizzi = [\n",
    "    {\n",
    "        'nome': 'pino',\n",
    "        'telefono': '322423423',\n",
    "        'recapiti': [\n",
    "            {\n",
    "                'tipo': 'casa',\n",
    "                'indirizzo': 'via dal mastro 22'\n",
    "            },\n",
    "            {\n",
    "                'tipo': 'lavoro',\n",
    "                'indirizzo': 'piazza mittica'\n",
    "            }\n",
    "\n",
    "        ]\n",
    "    },\n",
    "    {\n",
    "        'nome': 'pluto',\n",
    "        'telefono': '32423',\n",
    "    },\n",
    "    \n",
    "]\n",
    "\n",
    "print(indirizzi)\n",
    "print(indirizzi[1]['nome'])\n",
    "print(indirizzi[0]['recapiti'][0])"
   ]
  },
  {
   "cell_type": "code",
   "execution_count": 3,
   "metadata": {},
   "outputs": [
    {
     "name": "stdout",
     "output_type": "stream",
     "text": [
      "   =>  {}\n",
      "sto elaborando comune:  torino\n",
      "  il comune non esiste, lo aggiungo:  torino\n",
      "   =>  {'torino': []}\n",
      "sto elaborando comune:  torino\n",
      "sto elaborando comune:  torino\n",
      "sto elaborando comune:  milano\n",
      "  il comune non esiste, lo aggiungo:  milano\n",
      "   =>  {'torino': ['pino', 'luca', 'antonip'], 'milano': []}\n",
      "sto elaborando comune:  milano\n",
      "sto elaborando comune:  genova\n",
      "  il comune non esiste, lo aggiungo:  genova\n",
      "   =>  {'torino': ['pino', 'luca', 'antonip'], 'milano': ['pippo', 'alex'], 'genova': []}\n",
      "{'torino': ['pino', 'luca', 'antonip'], 'milano': ['pippo', 'alex'], 'genova': ['tony']}\n"
     ]
    }
   ],
   "source": [
    "# riorganizzazio dati per comune\n",
    "\n",
    "persone = [\n",
    "    {'nome': 'pino', 'comune': 'torino'},\n",
    "    {'nome': 'luca', 'comune': 'torino'},\n",
    "    {'nome': 'antonip', 'comune': 'torino'},\n",
    "    {'nome': 'pippo', 'comune': 'milano'},\n",
    "    {'nome': 'alex', 'comune': 'milano'},\n",
    "    {'nome': 'tony', 'comune': 'genova'}, \n",
    "    # ...\n",
    "]\n",
    "    \n",
    "# divisione per comune\n",
    "\n",
    "\n",
    "risultato = {}\n",
    "print('   => ', risultato)\n",
    "\n",
    "for p in persone: #p dictionary con la singola riga\n",
    "    # print(p)\n",
    "    com = p['comune'] # prendo il valore ldella chiave comune della riga che sto elaborando\n",
    "    \n",
    "    # verifico se ho già elaborato il comune se no creo il valore nel dictionary\n",
    "    print('sto elaborando comune: ', com)\n",
    "    if risultato.get(com) == None: \n",
    "        print('  il comune non esiste, lo aggiungo: ', com)\n",
    "        risultato[com] = []\n",
    "        print('   => ', risultato)\n",
    "            \n",
    "    nome = p['nome']\n",
    "    risultato[com].append(nome)\n",
    "    # risultato[com].append(p['nome'])\n",
    "\n",
    "print(risultato)\n",
    "    \n",
    "\n",
    "persone_per_comune_esempio = {\n",
    "    'torino': ['pino', 'luca' ], #... \n",
    "    'milano': ['pippo', 'alex' ],\n",
    "    'genova': ['tony' ],\n",
    "}"
   ]
  },
  {
   "cell_type": "code",
   "execution_count": 4,
   "metadata": {},
   "outputs": [],
   "source": [
    "# struttura ordinabile\n",
    "\n",
    "persone_per_comune_esempio = [\n",
    "    { 'comune': 'genova', 'persone': ['tony' ] },\n",
    "    { 'comune': 'milano', 'persone': ['pippo', 'alex' ,'lucio', 'enzo'] }, \n",
    "    { 'comune': 'torino', 'persone': ['pino', 'luca', 'antonio'] } \n",
    "]"
   ]
  },
  {
   "cell_type": "code",
   "execution_count": 6,
   "metadata": {},
   "outputs": [
    {
     "data": {
      "text/plain": [
       "[{'comune': 'genova', 'persone': ['tony']},\n",
       " {'comune': 'milano', 'persone': ['pippo', 'alex', 'lucio', 'enzo']},\n",
       " {'comune': 'torino', 'persone': ['pino', 'luca', 'antonio']}]"
      ]
     },
     "execution_count": 6,
     "metadata": {},
     "output_type": "execute_result"
    }
   ],
   "source": [
    "# ordinamenti\n",
    "\n",
    "l = [1, 6, 8, 9,323,2, 5]\n",
    "\n",
    "sorted(l)\n",
    "\n",
    "\n",
    "\n",
    "def prendi_comune(riga_persone_comune):\n",
    "    return riga_persone_comune.get('comune')\n",
    "\n",
    "def conta_persone(riga_persone_comune):\n",
    "    return len(riga_persone_comune['persone'])\n",
    "\n",
    "def conta_persone_contrario(riga_persone_comune):\n",
    "    return -len(riga_persone_comune['persone'])\n",
    "\n",
    "\n",
    "sorted(persone_per_comune_esempio, key = conta_persone)\n",
    "\n",
    "sorted(persone_per_comune_esempio, key = conta_persone, reverse=True)\n",
    "\n",
    "sorted(persone_per_comune_esempio, key = conta_persone_contrario)\n",
    "\n",
    "sorted(persone_per_comune_esempio, key = prendi_comune)\n",
    "\n",
    "\n",
    "\n",
    "\n",
    "#c1 = { 'comune': 'genova', 'persone': ['tony' ] }\n",
    "#v = prendi_comune(c1)\n",
    "#print(v)\n",
    "\n",
    "\n"
   ]
  },
  {
   "cell_type": "code",
   "execution_count": null,
   "metadata": {},
   "outputs": [],
   "source": []
  }
 ],
 "metadata": {
  "kernelspec": {
   "display_name": "Python 3",
   "language": "python",
   "name": "python3"
  },
  "language_info": {
   "codemirror_mode": {
    "name": "ipython",
    "version": 3
   },
   "file_extension": ".py",
   "mimetype": "text/x-python",
   "name": "python",
   "nbconvert_exporter": "python",
   "pygments_lexer": "ipython3",
   "version": "3.7.4"
  }
 },
 "nbformat": 4,
 "nbformat_minor": 4
}
