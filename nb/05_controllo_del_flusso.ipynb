{
 "cells": [
  {
   "cell_type": "markdown",
   "metadata": {},
   "source": [
    "# Controllo del flusso"
   ]
  },
  {
   "cell_type": "code",
   "execution_count": 10,
   "metadata": {},
   "outputs": [
    {
     "name": "stdout",
     "output_type": "stream",
     "text": [
      "al di fouri di 3 e 5\n",
      "al di fouri di 3 e 5\n"
     ]
    }
   ],
   "source": [
    "# IF\n",
    "\n",
    "a = 7\n",
    "\n",
    "if a < 5:\n",
    "    print('minore di 5')\n",
    "\n",
    "    \n",
    "# poco leggibile\n",
    "if a < 5:\n",
    "    if a > 3:\n",
    "        print('compreso tra 3 e 5')\n",
    "\n",
    "if a < 5 and a > 3:\n",
    "    print('compreso tra 3 e 5')\n",
    "    \n",
    "if a > 5 or a < 3:\n",
    "    print('al di fouri di 3 e 5')\n",
    "\n",
    "    \n",
    "if a > 5 or \\\n",
    "    a < 3:\n",
    "    print('al di fouri di 3 e 5')\n",
    "\n"
   ]
  },
  {
   "cell_type": "code",
   "execution_count": 11,
   "metadata": {},
   "outputs": [
    {
     "name": "stdout",
     "output_type": "stream",
     "text": [
      "maggiore o uguale a 5\n"
     ]
    }
   ],
   "source": [
    "# if else\n",
    "\n",
    "a = 7\n",
    "\n",
    "if a < 5:\n",
    "    print('minore di 5')\n",
    "else:\n",
    "    print('maggiore o uguale a 5')\n"
   ]
  },
  {
   "cell_type": "code",
   "execution_count": 13,
   "metadata": {},
   "outputs": [
    {
     "name": "stdout",
     "output_type": "stream",
     "text": [
      "uguale a 5\n"
     ]
    }
   ],
   "source": [
    "#elif = else if\n",
    "a = 5\n",
    "\n",
    "if a < 5:\n",
    "    print('minore di 5')\n",
    "elif a > 5:\n",
    "    print('maggiore di 5')\n",
    "# potete mettere quanti elif vi servono\n",
    "else:\n",
    "    print('uguale a 5')\n",
    "\n"
   ]
  },
  {
   "cell_type": "code",
   "execution_count": 19,
   "metadata": {},
   "outputs": [
    {
     "name": "stdout",
     "output_type": "stream",
     "text": [
      "7\n",
      "1\n"
     ]
    }
   ],
   "source": [
    "# ternary operator\n",
    "\n",
    "a = 7\n",
    "\n",
    "\n",
    "if a > 0:\n",
    "    b = a\n",
    "else:\n",
    "    b = 0\n",
    "\n",
    "#... = <valore se true> if <condizione> else <valore se false>\n",
    "b = a if a > 0 else 0\n",
    "    \n",
    "print(b)\n",
    "\n",
    "# b vale 1 se a positivo 0 altrimenti\n",
    "b = 1 if a > 0 else 0\n",
    "\n",
    "print(b)\n",
    "    \n"
   ]
  },
  {
   "cell_type": "code",
   "execution_count": 20,
   "metadata": {},
   "outputs": [
    {
     "name": "stdout",
     "output_type": "stream",
     "text": [
      "0\n",
      "1\n",
      "2\n",
      "3\n",
      "4\n",
      "5\n",
      "6\n",
      "7\n",
      "8\n",
      "9\n"
     ]
    }
   ],
   "source": [
    "# ciclo while\n",
    "\n",
    "\n",
    "a = 0\n",
    "\n",
    "while a < 10:\n",
    "    print(a)\n",
    "    a = a + 1\n",
    "    \n"
   ]
  },
  {
   "cell_type": "code",
   "execution_count": 23,
   "metadata": {},
   "outputs": [
    {
     "name": "stdout",
     "output_type": "stream",
     "text": [
      ">  0\n",
      ">  1\n",
      ">  2\n",
      ">  3\n",
      ">  4\n",
      ">  5\n",
      ">  6\n",
      ">  7\n",
      ">  8\n",
      ">  9\n"
     ]
    }
   ],
   "source": [
    "a = 0\n",
    "while True:\n",
    "    print('> ', a)\n",
    "    a = a + 1\n",
    "    if a == 10:\n",
    "        break\n"
   ]
  },
  {
   "cell_type": "code",
   "execution_count": 31,
   "metadata": {},
   "outputs": [
    {
     "name": "stdout",
     "output_type": "stream",
     "text": [
      "valori:  9\n",
      ">  0 3\n",
      ">  1 5\n",
      ">  2 8\n",
      ">  3 2\n",
      ">  4 5\n",
      ">  5 7\n"
     ]
    }
   ],
   "source": [
    "valori = [3, 5, 8, 2, 5, 7, -1, 3, 5]  \n",
    "\n",
    "print('valori: ', len(valori))\n",
    "\n",
    "i = 0\n",
    "while True:\n",
    "    if i == len(valori):\n",
    "        break\n",
    "\n",
    "    val = valori[i]\n",
    "\n",
    "    if val < 0:\n",
    "        break\n",
    "        \n",
    "    print('> ', i, val)\n",
    "    i = i + 1\n",
    "    \n"
   ]
  },
  {
   "cell_type": "code",
   "execution_count": 39,
   "metadata": {},
   "outputs": [
    {
     "name": "stdout",
     "output_type": "stream",
     "text": [
      "0 x 0 => 6\n",
      "0 x 1 => 27\n",
      "0 x 2 => 54\n",
      "0 x 3 => 6\n",
      "0 x 4 => -15\n",
      "0 x 5 => 51\n",
      "0 x 6 => -3\n",
      "0 x 7 => 9\n",
      "0 x 8 => 15\n",
      "1 x 0 => 10\n",
      "1 x 1 => 45\n",
      "1 x 2 => 90\n",
      "1 x 3 => 10\n",
      "1 x 4 => -25\n",
      "1 x 5 => 85\n",
      "1 x 6 => -5\n",
      "1 x 7 => 15\n",
      "1 x 8 => 25\n",
      "2 x 0 => 16\n",
      "2 x 1 => 72\n",
      "2 x 2 => 144\n"
     ]
    }
   ],
   "source": [
    "# cicli nidificati\n",
    "\n",
    "valori_righe = [3, 5, 8, 2, 5, 7, -1, 3, 5]  \n",
    "valori_colonne = [2, 9, 18, 2, -5, 17, -1, 3, 5]\n",
    "\n",
    "\n",
    "ciclo_finito = False\n",
    "\n",
    "r = 0\n",
    "while True:\n",
    "    if r == len(valori_righe):\n",
    "        break\n",
    "        \n",
    "    valore_riga = valori_righe[r]\n",
    "    \n",
    "    c = 0\n",
    "    while True:\n",
    "        if c == len(valori_colonne):\n",
    "            break\n",
    "            \n",
    "        valore_colonna = valori_colonne[c]\n",
    "            \n",
    "        risultato = valore_riga * valore_colonna\n",
    "        \n",
    "            \n",
    "        print(\"%i x %i => %s\" % (r,c,risultato) )\n",
    "\n",
    "        if risultato > 100:\n",
    "            ciclo_finito = True\n",
    "            break\n",
    "        \n",
    "        c = c + 1\n",
    "\n",
    "    #if risultato > 100:\n",
    "    if ciclo_finito:\n",
    "        break\n",
    "        \n",
    "    r = r + 1\n",
    "        "
   ]
  },
  {
   "cell_type": "code",
   "execution_count": 42,
   "metadata": {},
   "outputs": [
    {
     "name": "stdout",
     "output_type": "stream",
     "text": [
      "3\n",
      "5\n",
      "8\n",
      "2\n",
      "5\n",
      "7\n",
      "-1\n",
      "3\n",
      "5\n"
     ]
    }
   ],
   "source": [
    "valori = [3, 5, 8, 2, 5, 7, -1, 3, 5] \n",
    "\n",
    "for v in valori:\n",
    "    print(v)\n"
   ]
  },
  {
   "cell_type": "code",
   "execution_count": 43,
   "metadata": {},
   "outputs": [
    {
     "name": "stdout",
     "output_type": "stream",
     "text": [
      "c\n",
      "i\n",
      "a\n",
      "o\n",
      " \n",
      "c\n",
      "o\n",
      "m\n",
      "e\n",
      " \n",
      "s\n",
      "t\n",
      "a\n",
      "i\n",
      "?\n"
     ]
    }
   ],
   "source": [
    "testo = \"ciao come stai?\"\n",
    "\n",
    "for c in testo:\n",
    "    print(c)"
   ]
  },
  {
   "cell_type": "code",
   "execution_count": 44,
   "metadata": {},
   "outputs": [
    {
     "name": "stdout",
     "output_type": "stream",
     "text": [
      "c\n",
      "i\n",
      "a\n",
      "o\n"
     ]
    }
   ],
   "source": [
    "testo = \"ciao come stai?\"\n",
    "\n",
    "for c in testo:\n",
    "    if c == ' ':\n",
    "        break\n",
    "    print(c)"
   ]
  },
  {
   "cell_type": "code",
   "execution_count": 45,
   "metadata": {},
   "outputs": [
    {
     "name": "stdout",
     "output_type": "stream",
     "text": [
      "0\n",
      "1\n",
      "2\n",
      "3\n",
      "4\n",
      "5\n",
      "6\n",
      "7\n",
      "8\n",
      "9\n"
     ]
    }
   ],
   "source": [
    "for v in range(0,10):\n",
    "    print(v)"
   ]
  },
  {
   "cell_type": "code",
   "execution_count": 46,
   "metadata": {},
   "outputs": [
    {
     "name": "stdout",
     "output_type": "stream",
     "text": [
      "0\n",
      "3\n",
      "6\n",
      "9\n"
     ]
    }
   ],
   "source": [
    "for v in range(0,10,3):\n",
    "    print(v)"
   ]
  },
  {
   "cell_type": "code",
   "execution_count": 49,
   "metadata": {},
   "outputs": [
    {
     "name": "stdout",
     "output_type": "stream",
     "text": [
      "9\n",
      "8\n",
      "7\n",
      "6\n",
      "5\n",
      "4\n",
      "3\n",
      "2\n",
      "1\n",
      "0\n"
     ]
    }
   ],
   "source": [
    "for v in range(9,-1,-1):\n",
    "    print(v)"
   ]
  },
  {
   "cell_type": "code",
   "execution_count": 50,
   "metadata": {},
   "outputs": [
    {
     "name": "stdout",
     "output_type": "stream",
     "text": [
      "0\n",
      "1\n",
      "2\n",
      "3\n",
      "4\n",
      "5\n",
      "6\n",
      "7\n",
      "8\n"
     ]
    }
   ],
   "source": [
    "for v in range(0, len(valori)):\n",
    "    print(v)"
   ]
  },
  {
   "cell_type": "code",
   "execution_count": null,
   "metadata": {},
   "outputs": [],
   "source": []
  }
 ],
 "metadata": {
  "kernelspec": {
   "display_name": "Python 3",
   "language": "python",
   "name": "python3"
  },
  "language_info": {
   "codemirror_mode": {
    "name": "ipython",
    "version": 3
   },
   "file_extension": ".py",
   "mimetype": "text/x-python",
   "name": "python",
   "nbconvert_exporter": "python",
   "pygments_lexer": "ipython3",
   "version": "3.7.4"
  }
 },
 "nbformat": 4,
 "nbformat_minor": 4
}
