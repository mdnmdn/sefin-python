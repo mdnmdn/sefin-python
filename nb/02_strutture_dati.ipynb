{
 "cells": [
  {
   "cell_type": "markdown",
   "metadata": {},
   "source": [
    "# Strutture dati complesse\n",
    "\n",
    "* array o lista\n",
    "* tupla\n",
    "* dictionary"
   ]
  },
  {
   "cell_type": "code",
   "execution_count": 15,
   "metadata": {},
   "outputs": [
    {
     "name": "stdout",
     "output_type": "stream",
     "text": [
      "['pippo', 'pluto', 'paperino']\n",
      "3\n",
      "pippo\n",
      "paperino\n",
      "------\n",
      "['pippo', 'pluto', 'nonna papera']\n",
      "3\n",
      "------\n",
      "['pippo', 'pluto', 'nonna papera', 'qui', 'quo', 'qua']\n",
      "6\n",
      "['pippo', 'paperone', 'pluto', 'nonna papera', 'qui', 'quo', 'qua']\n",
      "7\n",
      "------\n",
      "['paperone', 'pluto', 'nonna papera', 'qui', 'quo', 'qua']\n",
      "6\n",
      "['paperone', 'nonna papera', 'qui', 'quo', 'qua']\n",
      "5\n"
     ]
    }
   ],
   "source": [
    "# list\n",
    "# elenco di valori modificabile\n",
    "\n",
    "l = ['pippo', 'pluto', 'paperino']\n",
    "\n",
    "print(l)\n",
    "\n",
    "lunghezza = len(l)\n",
    "print(lunghezza)\n",
    "\n",
    "elem = l[0]\n",
    "print(elem)\n",
    "\n",
    "elem = l[-1] # indice a partire dal fondo\n",
    "print(elem)\n",
    "\n",
    "\n",
    "print('------')\n",
    "\n",
    "l[2] = 'nonna papera'\n",
    "\n",
    "print(l)\n",
    "\n",
    "lunghezza = len(l)\n",
    "print(lunghezza)\n",
    "\n",
    "print('------')\n",
    "\n",
    "# aggiungere elementi\n",
    "l.append('qui') # in fondo\n",
    "l.append('quo')\n",
    "l.append('qua')\n",
    "print(l)\n",
    "lunghezza = len(l)\n",
    "print(lunghezza)\n",
    "\n",
    "l.insert(1, 'paperone')\n",
    "print(l)\n",
    "lunghezza = len(l)\n",
    "print(lunghezza)\n",
    "\n",
    "\n",
    "print('------')\n",
    "\n",
    "# rimuovere elementi\n",
    "\n",
    "l.remove('pippo') # a partire dall'elemento\n",
    "\n",
    "print(l)\n",
    "lunghezza = len(l)\n",
    "print(lunghezza)\n",
    "\n",
    "\n",
    "del l[1] # a partire dall'elemento\n",
    "\n",
    "print(l)\n",
    "lunghezza = len(l)\n",
    "print(lunghezza)\n",
    "\n"
   ]
  },
  {
   "cell_type": "code",
   "execution_count": 26,
   "metadata": {},
   "outputs": [
    {
     "name": "stdout",
     "output_type": "stream",
     "text": [
      "['nonna papera', 'qui']\n",
      "['qui', 'quo', 'qua']\n",
      "['paperone', 'nonna papera', 'qui', 'quo']\n",
      "['paperone', 'qui', 'qua']\n",
      "['paperone', 'qui', 'qua']\n"
     ]
    }
   ],
   "source": [
    "l1 = l[1:3] # dal 1o al 3o\n",
    "print(l1)\n",
    "\n",
    "l1 = l[2:] # dal 2o alla fine\n",
    "print(l1)\n",
    "\n",
    "l1 = l[:4] # dall'inizio fino al 4o\n",
    "print(l1)\n",
    "\n",
    "l1 = l[0:5:2] # dal 1o al 5o prendendo uno ogni 2\n",
    "print(l1)\n",
    "\n",
    "l1 = l[::2] # prendi uno ogni 2\n",
    "print(l1)"
   ]
  },
  {
   "cell_type": "code",
   "execution_count": 51,
   "metadata": {},
   "outputs": [
    {
     "name": "stdout",
     "output_type": "stream",
     "text": [
      "[5, 'ciao', True, 123.233]\n",
      "18\n",
      "c\n",
      "?\n",
      "ciao\n",
      "ca iocm a\n",
      "ciao ciao come va Gino ?\n"
     ]
    }
   ],
   "source": [
    "# una stringa può contenere qualunque tipo di dato\n",
    "\n",
    "ls = [5, 'ciao', True, 123.233]\n",
    "print(ls)\n",
    "\n",
    "# le strighe sono assimilabila a list di caratteri\n",
    "text = \"ciao ciao come va?\"\n",
    "print(len(text))\n",
    "print(text[0])\n",
    "print(text[-1])\n",
    "print(text[0:4])\n",
    "print(text[::2])\n",
    "\n",
    "text1 = \"%s %s ?\" % (text[:-1]  ,  'Gino' )\n",
    "print(text1)\n",
    "\n"
   ]
  },
  {
   "cell_type": "code",
   "execution_count": null,
   "metadata": {},
   "outputs": [],
   "source": []
  }
 ],
 "metadata": {
  "kernelspec": {
   "display_name": "Python 3",
   "language": "python",
   "name": "python3"
  },
  "language_info": {
   "codemirror_mode": {
    "name": "ipython",
    "version": 3
   },
   "file_extension": ".py",
   "mimetype": "text/x-python",
   "name": "python",
   "nbconvert_exporter": "python",
   "pygments_lexer": "ipython3",
   "version": "3.7.4"
  }
 },
 "nbformat": 4,
 "nbformat_minor": 4
}
