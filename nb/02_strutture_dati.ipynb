{
 "cells": [
  {
   "cell_type": "markdown",
   "metadata": {},
   "source": [
    "# Strutture dati complesse\n",
    "\n",
    "* array o lista\n",
    "* tupla\n",
    "* dictionary"
   ]
  },
  {
   "cell_type": "code",
   "execution_count": 15,
   "metadata": {},
   "outputs": [
    {
     "name": "stdout",
     "output_type": "stream",
     "text": [
      "['pippo', 'pluto', 'paperino']\n",
      "3\n",
      "pippo\n",
      "paperino\n",
      "------\n",
      "['pippo', 'pluto', 'nonna papera']\n",
      "3\n",
      "------\n",
      "['pippo', 'pluto', 'nonna papera', 'qui', 'quo', 'qua']\n",
      "6\n",
      "['pippo', 'paperone', 'pluto', 'nonna papera', 'qui', 'quo', 'qua']\n",
      "7\n",
      "------\n",
      "['paperone', 'pluto', 'nonna papera', 'qui', 'quo', 'qua']\n",
      "6\n",
      "['paperone', 'nonna papera', 'qui', 'quo', 'qua']\n",
      "5\n"
     ]
    }
   ],
   "source": [
    "# list\n",
    "# elenco di valori modificabile\n",
    "\n",
    "l = ['pippo', 'pluto', 'paperino']\n",
    "\n",
    "print(l)\n",
    "\n",
    "lunghezza = len(l)\n",
    "print(lunghezza)\n",
    "\n",
    "elem = l[0]\n",
    "print(elem)\n",
    "\n",
    "elem = l[-1] # indice a partire dal fondo\n",
    "print(elem)\n",
    "\n",
    "\n",
    "print('------')\n",
    "\n",
    "l[2] = 'nonna papera'\n",
    "\n",
    "print(l)\n",
    "\n",
    "lunghezza = len(l)\n",
    "print(lunghezza)\n",
    "\n",
    "print('------')\n",
    "\n",
    "# aggiungere elementi\n",
    "l.append('qui') # in fondo\n",
    "l.append('quo')\n",
    "l.append('qua')\n",
    "print(l)\n",
    "lunghezza = len(l)\n",
    "print(lunghezza)\n",
    "\n",
    "l.insert(1, 'paperone')\n",
    "print(l)\n",
    "lunghezza = len(l)\n",
    "print(lunghezza)\n",
    "\n",
    "\n",
    "print('------')\n",
    "\n",
    "# rimuovere elementi\n",
    "\n",
    "l.remove('pippo') # a partire dall'elemento\n",
    "\n",
    "print(l)\n",
    "lunghezza = len(l)\n",
    "print(lunghezza)\n",
    "\n",
    "\n",
    "del l[1] # a partire dall'indice\n",
    "\n",
    "print(l)\n",
    "lunghezza = len(l)\n",
    "print(lunghezza)\n",
    "\n"
   ]
  },
  {
   "cell_type": "code",
   "execution_count": 26,
   "metadata": {},
   "outputs": [
    {
     "name": "stdout",
     "output_type": "stream",
     "text": [
      "['nonna papera', 'qui']\n",
      "['qui', 'quo', 'qua']\n",
      "['paperone', 'nonna papera', 'qui', 'quo']\n",
      "['paperone', 'qui', 'qua']\n",
      "['paperone', 'qui', 'qua']\n"
     ]
    }
   ],
   "source": [
    "l1 = l[1:3] # dal 1o al 3o\n",
    "print(l1)\n",
    "\n",
    "l1 = l[2:] # dal 2o alla fine\n",
    "print(l1)\n",
    "\n",
    "l1 = l[:4] # dall'inizio fino al 4o\n",
    "print(l1)\n",
    "\n",
    "l1 = l[0:5:2] # dal 1o al 5o prendendo uno ogni 2\n",
    "print(l1)\n",
    "\n",
    "l1 = l[::2] # prendi uno ogni 2\n",
    "print(l1)"
   ]
  },
  {
   "cell_type": "code",
   "execution_count": 51,
   "metadata": {},
   "outputs": [
    {
     "name": "stdout",
     "output_type": "stream",
     "text": [
      "[5, 'ciao', True, 123.233]\n",
      "18\n",
      "c\n",
      "?\n",
      "ciao\n",
      "ca iocm a\n",
      "ciao ciao come va Gino ?\n"
     ]
    }
   ],
   "source": [
    "# una stringa può contenere qualunque tipo di dato\n",
    "\n",
    "ls = [5, 'ciao', True, 123.233]\n",
    "print(ls)\n",
    "\n",
    "# le strighe sono assimilabila a list di caratteri\n",
    "text = \"ciao ciao come va?\"\n",
    "print(len(text))\n",
    "print(text[0])\n",
    "print(text[-1])\n",
    "print(text[0:4])\n",
    "print(text[::2])\n",
    "\n",
    "text1 = \"%s %s ?\" % (text[:-1]  ,  'Gino' )\n",
    "print(text1)\n",
    "\n"
   ]
  },
  {
   "cell_type": "markdown",
   "metadata": {},
   "source": [
    "## TUPLA\n",
    "\n",
    "Elenco ordinato e immutabile di elementi"
   ]
  },
  {
   "cell_type": "code",
   "execution_count": 63,
   "metadata": {},
   "outputs": [
    {
     "name": "stdout",
     "output_type": "stream",
     "text": [
      "(5, 6, 90, 76)\n",
      "5\n",
      "4\n",
      "(6, 90)\n"
     ]
    }
   ],
   "source": [
    "t = (5, 6, 90, 76)\n",
    "\n",
    "print(t)\n",
    "print(t[0])\n",
    "print(len(t))\n",
    "print(t[1:3])\n"
   ]
  },
  {
   "cell_type": "code",
   "execution_count": 73,
   "metadata": {},
   "outputs": [
    {
     "name": "stdout",
     "output_type": "stream",
     "text": [
      "Ciao pino io sono pluto, come va?\n",
      "24 10\n",
      "t1:  (10, 24)\n",
      "a e b:  10 24\n"
     ]
    }
   ],
   "source": [
    "# uso di tuple\n",
    "\n",
    "txt = \"Ciao %s io sono %s, come va?\" % ('pino', 'pluto')\n",
    "print(txt)\n",
    "\n",
    "\n",
    "# assegnazione tramite tuple\n",
    "a = 10 \n",
    "b = 24\n",
    "\n",
    "(a, b) = (b, a)\n",
    "\n",
    "print(a, b)\n",
    "\n",
    "# stessa opeazione ma esplicitata con una variabile\n",
    "t1 = (b, a)\n",
    "print('t1: ', t1)\n",
    "\n",
    "(a, b) = t1\n",
    "print('a e b: ', a, b)"
   ]
  },
  {
   "cell_type": "code",
   "execution_count": 87,
   "metadata": {},
   "outputs": [
    {
     "name": "stdout",
     "output_type": "stream",
     "text": [
      "(1, 'a')\n",
      "len(t2):  2 <class 'tuple'>\n",
      "(1,)\n",
      "len(t3):  1 <class 'tuple'>\n",
      "l:  [1, 'a'] 2 <class 'list'>\n",
      "(1, 'a')\n"
     ]
    }
   ],
   "source": [
    "t2 = (1, 'a')\n",
    "print(t2)\n",
    "print('len(t2): ', len(t2), type(t2))\n",
    "\n",
    "# tupla di un elemento solo\n",
    "t3 = (1,)\n",
    "print(t3)\n",
    "print('len(t3): ', len(t3), type(t3))\n",
    "\n",
    "# trasformare tupla in lista\n",
    "l = list(t2)\n",
    "print('l: ',l, len(l), type(l))\n",
    "\n",
    "# lista in tupla\n",
    "t4 = tuple(l)\n",
    "print(t4)"
   ]
  },
  {
   "cell_type": "markdown",
   "metadata": {},
   "source": [
    "## Dictionary\n",
    "\n",
    "Insieme di elementi non ordinati associati ad una chiave univoca"
   ]
  },
  {
   "cell_type": "code",
   "execution_count": 98,
   "metadata": {},
   "outputs": [
    {
     "name": "stdout",
     "output_type": "stream",
     "text": [
      "d:  {'nome': 'gino', 'nscarpe': 42, 'cognome': 'de nittis'}\n",
      "42\n",
      "len(d):  3\n",
      "d:  {'nome': 'pino', 'nscarpe': 42, 'cognome': 'de nittis'}\n"
     ]
    }
   ],
   "source": [
    "d = {\n",
    "    'nome': 'marco' ,\n",
    "    'nscarpe': 42,\n",
    "    'cognome': 'de nittis',\n",
    "}\n",
    "\n",
    "print('d: ', d)\n",
    "\n",
    "numero_di_scarpe = d['nscarpe']\n",
    "\n",
    "print(numero_di_scarpe)\n",
    "\n",
    "print('len(d): ', len(d))\n",
    "\n",
    "d['nome'] = 'pino'\n",
    "print('d: ', d)\n"
   ]
  },
  {
   "cell_type": "code",
   "execution_count": 104,
   "metadata": {},
   "outputs": [
    {
     "name": "stdout",
     "output_type": "stream",
     "text": [
      "azienda: None\n",
      "azienda: <nessuna azienda>\n",
      "d:  {'nome': 'pino', 'cognome': 'de nittis'}\n"
     ]
    }
   ],
   "source": [
    "# az = d['azienda']\n",
    "az = d.get('azienda')\n",
    "\n",
    "print('azienda:', az )\n",
    "\n",
    "# campo non esistente con valore di default\n",
    "az = d.get('azienda', '<nessuna azienda>')\n",
    "\n",
    "print('azienda:', az )\n",
    "\n",
    "# eliminazione di un valore\n",
    "del d['nscarpe']\n",
    "print('d: ', d)\n",
    "\n",
    "\n"
   ]
  },
  {
   "cell_type": "code",
   "execution_count": 115,
   "metadata": {},
   "outputs": [
    {
     "name": "stdout",
     "output_type": "stream",
     "text": [
      "[{'nome': 'pino', 'telefono': '322423423', 'recapiti': [{'tipo': 'casa', 'indirizzo': 'via dal mastro 22'}, {'tipo': 'lavoro', 'indirizzo': 'piazza mittica'}]}, {'nome': 'pluto', 'telefono': '32423'}]\n",
      "pluto\n",
      "{'tipo': 'casa', 'indirizzo': 'via dal mastro 22'}\n"
     ]
    }
   ],
   "source": [
    "# list di dictionary\n",
    "\n",
    "indirizzi = [\n",
    "    {\n",
    "        'nome': 'pino',\n",
    "        'telefono': '322423423',\n",
    "        'recapiti': [\n",
    "            {\n",
    "                'tipo': 'casa',\n",
    "                'indirizzo': 'via dal mastro 22'\n",
    "            },\n",
    "            {\n",
    "                'tipo': 'lavoro',\n",
    "                'indirizzo': 'piazza mittica'\n",
    "            }\n",
    "\n",
    "        ]\n",
    "    },\n",
    "    {\n",
    "        'nome': 'pluto',\n",
    "        'telefono': '32423',\n",
    "    },\n",
    "    \n",
    "]\n",
    "\n",
    "print(indirizzi)\n",
    "print(indirizzi[1]['nome'])\n",
    "print(indirizzi[0]['recapiti'][0])"
   ]
  },
  {
   "cell_type": "code",
   "execution_count": null,
   "metadata": {},
   "outputs": [],
   "source": []
  }
 ],
 "metadata": {
  "kernelspec": {
   "display_name": "Python 3",
   "language": "python",
   "name": "python3"
  },
  "language_info": {
   "codemirror_mode": {
    "name": "ipython",
    "version": 3
   },
   "file_extension": ".py",
   "mimetype": "text/x-python",
   "name": "python",
   "nbconvert_exporter": "python",
   "pygments_lexer": "ipython3",
   "version": "3.7.4"
  }
 },
 "nbformat": 4,
 "nbformat_minor": 4
}
