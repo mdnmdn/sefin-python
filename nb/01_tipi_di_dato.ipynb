{
 "cells": [
  {
   "cell_type": "markdown",
   "metadata": {},
   "source": [
    "# Tipo di dato"
   ]
  },
  {
   "cell_type": "code",
   "execution_count": 5,
   "metadata": {},
   "outputs": [],
   "source": [
    "# numerico\n",
    "num = 1\n",
    "num_dec = 3.4340287904230234\n",
    "\n",
    "# stringa\n",
    "val_str  = \"ciao\"\n",
    "val_str2 = 'ciao'\n",
    "\n",
    "# boolean\n",
    "boolean = True\n",
    "boolean_no = False\n",
    "\n",
    "# nessun dato\n",
    "variabile_vuota = None\n"
   ]
  },
  {
   "cell_type": "code",
   "execution_count": 8,
   "metadata": {},
   "outputs": [
    {
     "name": "stdout",
     "output_type": "stream",
     "text": [
      "valore: 12345678.324123\n",
      "valore: 12345678.32\n",
      "valore: 12312.00\n"
     ]
    }
   ],
   "source": [
    "v = 123456789012345.3321231221323487109274801923748912649127641928374\n",
    "v = 12345678.324123\n",
    "\n",
    "\n",
    "# arrotondo a valore numerico\n",
    "round(v,2)\n",
    "\n",
    "# stampo con un numero fisso di cifre (interpolazione di stringhe)\n",
    "text = \"valore: %f\" % v\n",
    "print(text)\n",
    "\n",
    "# formattazione con 2 cifre dopo la virgola\n",
    "text = \"valore: %.2f\" % v\n",
    "print(text)\n",
    "\n",
    "# formattazione con 2 cifre dopo la virgola anche se non presenti\n",
    "text = \"valore: %.2f\" % 12312\n",
    "print(text)"
   ]
  },
  {
   "cell_type": "code",
   "execution_count": 9,
   "metadata": {},
   "outputs": [
    {
     "name": "stdout",
     "output_type": "stream",
     "text": [
      "ciao come va?\n",
      "c'è posto\n",
      "c'è posto\n"
     ]
    }
   ],
   "source": [
    "# stringhe\n",
    "\n",
    "\n",
    "text = 'ciao' + ' ' + 'come va?'\n",
    "print(text)\n",
    "\n",
    "# escape di simboli\n",
    "print('c\\'è posto')\n",
    "\n",
    "print(\"c'è posto\")"
   ]
  },
  {
   "cell_type": "code",
   "execution_count": 79,
   "metadata": {},
   "outputs": [
    {
     "name": "stdout",
     "output_type": "stream",
     "text": [
      "Ciao sono pippo e ho 39 anni\n",
      "Ciao sono pippo e ho 39 anni, davvero 39\n",
      "\n",
      "questo testo\n",
      "è molto lungo\n",
      "\n",
      "questo testo\n",
      "è molto lungo\t\te scrivo qui\n"
     ]
    }
   ],
   "source": [
    "# string interpolation\n",
    "nome = 'pippo'\n",
    "eta = 39\n",
    "\n",
    "pres = 'Ciao sono %s e ho %i anni' % (nome, eta)\n",
    "print(pres)\n",
    "\n",
    "# formato printf\n",
    "# https://docs.python.org/3/library/stdtypes.html#printf-style-string-formatting\n",
    "\n",
    "#pres2 = 'ciao sono ' + nome + ' e ho ' + eta + ' anni'\n",
    "\n",
    "\n",
    "# interpolazione con format\n",
    "pres = 'Ciao sono {0} e ho {1} anni, davvero {1}'.format(nome, eta)\n",
    "print(pres)\n",
    "\n",
    "# multiline\n",
    "stringa_lunga = \"\"\"\n",
    "questo testo\n",
    "è molto lungo\n",
    "\"\"\"\n",
    "print(stringa_lunga)\n",
    "\n",
    "# è equivalente a:\n",
    "\n",
    "stringa_con_acapo = \"questo testo\\nè molto lungo\\te scrivo qui\"\n",
    "print(stringa_con_acapo)\n",
    "\n",
    "\n"
   ]
  },
  {
   "cell_type": "code",
   "execution_count": null,
   "metadata": {},
   "outputs": [],
   "source": []
  }
 ],
 "metadata": {
  "kernelspec": {
   "display_name": "Python 3",
   "language": "python",
   "name": "python3"
  },
  "language_info": {
   "codemirror_mode": {
    "name": "ipython",
    "version": 3
   },
   "file_extension": ".py",
   "mimetype": "text/x-python",
   "name": "python",
   "nbconvert_exporter": "python",
   "pygments_lexer": "ipython3",
   "version": "3.7.4"
  }
 },
 "nbformat": 4,
 "nbformat_minor": 4
}
